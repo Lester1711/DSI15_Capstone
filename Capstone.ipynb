{
 "cells": [
  {
   "cell_type": "markdown",
   "metadata": {},
   "source": [
    "## DSI 15 Capstone Project"
   ]
  },
  {
   "cell_type": "markdown",
   "metadata": {},
   "source": [
    "## Product Image Classification on Amazon"
   ]
  },
  {
   "cell_type": "markdown",
   "metadata": {},
   "source": [
    "### Problem Statement"
   ]
  },
  {
   "cell_type": "markdown",
   "metadata": {},
   "source": [
    "E-commerce sites have thousands of listings everyday and at times, the users may not be correctly classifying their uploaded image or be using the wrong product depiction. Mismatch of product listing information will decrease the effectiveness of succssful transactions and also result in unnecessary resources being utilitzed to perform these corrections on a large scale. A product detection system would help to ensure the correct listing and categorization of products or to assist the user in classifying product types. To meet this need, an image classifer will be trained and developed to accurately identify the correct image labels with the use of neural networks."
   ]
  },
  {
   "cell_type": "markdown",
   "metadata": {},
   "source": [
    "### Executive Summary"
   ]
  },
  {
   "cell_type": "markdown",
   "metadata": {},
   "source": [
    "This capstone project would be aimed at building an image classification model using convulated neural networks that will identify the following 3 categories of products: clothing, footwear and watches. The source data to construct this model will be based on images scraped from Amazon, the world's largest online retailer. \n",
    "\n",
    "Stakeholders will be the e-commerce companies and the user of the services themselves. It will help the company improve the effectiveness of potential transactions. It will also improve the user experience with more accuracy and also to avoid problems arising from wrongly identifying products.\n",
    "\n",
    "Metrics used to measure the performance would be the AUC & Type I / Type II errors.\n",
    "\n",
    "Challenges foreseen would be potential imbalanced data, complex background noise or poor resolution images.  \n",
    "\n",
    "The goal at present seems to be sufficiently scoped as there are 3 categoeires of distinct image features an the quantity of images are adequate for the purposes of this analysis. The timeline for completion tentatively end of July 2020 is still a reasonable expectation to work towards to."
   ]
  },
  {
   "cell_type": "markdown",
   "metadata": {},
   "source": [
    "## Data Extraction"
   ]
  },
  {
   "cell_type": "markdown",
   "metadata": {},
   "source": [
    "Selenium and chrome webdriver is used to scrape the 3 categories in Amazon. The image formats are known to be fixed in size and hence will be saved as JPEG format. To ensure a sufficient quantity for testing and to account for possible discarding of ineligible datapoints, 2,000 images were saved from each class. They were extracted to the respective folders:\n",
    "<ul>\n",
    "    <li>Watch_Images - 2016 image count</li>\n",
    "    <li>Shirt_Images - 2016 image count</li>\n",
    "    <li>Shoe_Images - 2016 image count</li>\n",
    "</ul>"
   ]
  },
  {
   "cell_type": "code",
   "execution_count": 4,
   "metadata": {},
   "outputs": [],
   "source": [
    "from bs4 import BeautifulSoup as soup\n",
    "from selenium import webdriver\n",
    "from multiprocessing import Pool\n",
    "import requests\n",
    "import random\n",
    "import time"
   ]
  },
  {
   "cell_type": "code",
   "execution_count": 5,
   "metadata": {},
   "outputs": [],
   "source": [
    "driver = webdriver.Chrome(\"chromedriver\")"
   ]
  },
  {
   "cell_type": "markdown",
   "metadata": {},
   "source": [
    "### Extract Images from the Amazon Category of Men's Watches"
   ]
  },
  {
   "cell_type": "code",
   "execution_count": null,
   "metadata": {
    "scrolled": true
   },
   "outputs": [],
   "source": [
    "def main():\n",
    "\n",
    "  image_num = 0\n",
    "  row = 1\n",
    "  page_response = driver.get(\"https://www.amazon.com/s?i=specialty-aps&bbn=16225019011&rh=n%3A7141123011%2Cn%3A16225019011%2Cn%3A6358539011&pf_rd_i=16225019011&pf_rd_m=ATVPDKIKX0DER&pf_rd_p=5cd8272b-5ce4-4c26-bfcb-d6dca0c1e427&pf_rd_p=5cd8272b-5ce4-4c26-bfcb-d6dca0c1e427&pf_rd_r=CX53J0NV7EFDPJSMDE9S&pf_rd_r=CX53J0NV7EFDPJSMDE9S&pf_rd_s=merchandised-search-left-2&pf_rd_t=101&ref=AE_Men_Watches\")\n",
    "  page_content = soup(driver.page_source, 'html.parser')\n",
    "  images = page_content.findAll(\"img\",{\"class\":\"s-image\"})\n",
    "  image_num += len(images)\n",
    "  for i in range(len(images)):\n",
    "    f = open('../Watch_Images/'+str((row-1)*(len(images))+i)+\".jpg\",'wb')\n",
    "    f.write(requests.get(images[i]['src']).content)\n",
    "    f.close\n",
    "  while(1):\n",
    "\n",
    "    row += 1\n",
    "    if(page_content.find(\"li\",{'class':'a-last'}) != None):\n",
    "      driver.find_element_by_xpath(\"//li[contains(@class, 'a-last')]/a\").click()\n",
    "      time.sleep(3)\n",
    "      page_content = soup(driver.page_source, 'html.parser')\n",
    "      images = page_content.findAll(\"img\",{\"class\":\"s-image\"})\n",
    "      image_num += len(images)\n",
    "      for i in range(len(images)):\n",
    "        f = open('../Watch_Images/'+str((row-1)*(len(images))+i)+\".jpg\",'wb')\n",
    "        #if not: \n",
    "        #continue\n",
    "        f.write(requests.get(images[i]['src']).content)\n",
    "        f.close\n",
    "      if(image_num > 2000): break\n",
    "\n",
    "main()"
   ]
  },
  {
   "cell_type": "markdown",
   "metadata": {},
   "source": [
    "### Extract Images from the Amazon Category of Men's Shirts"
   ]
  },
  {
   "cell_type": "code",
   "execution_count": null,
   "metadata": {},
   "outputs": [],
   "source": [
    "def main():\n",
    "\n",
    "  image_num = 0\n",
    "  row = 1\n",
    "  page_response = driver.get(\"https://www.amazon.com/s?i=fashion-mens-intl-ship&bbn=16225019011&rh=n%3A16225019011%2Cn%3A1040658%2Cn%3A2476517011&dc&pf_rd_i=16225019011&pf_rd_m=ATVPDKIKX0DER&pf_rd_p=554625a3-8de1-4fdc-8877-99874d353388&pf_rd_r=SK809FT75R844KJ5WXGY&pf_rd_s=merchandised-search-4&pf_rd_t=101&qid=1594157542&rnid=1040658&ref=sr_nr_n_1\")\n",
    "  time.sleep(3)\n",
    "  page_content = soup(driver.page_source, 'html.parser')\n",
    "  images = page_content.findAll(\"img\",{\"class\":\"s-image\"})\n",
    "  image_num += len(images)\n",
    "  for i in range(len(images)):\n",
    "    f = open('../Shirt_Images/'+str((row-1)*(len(images))+i)+\".jpg\",'wb')\n",
    "    f.write(requests.get(images[i]['src']).content)\n",
    "    f.close\n",
    "  while(1):\n",
    "\n",
    "    row += 1\n",
    "    if(page_content.find(\"li\",{'class':'a-last'}) != None):\n",
    "      driver.find_element_by_xpath(\"//li[contains(@class, 'a-last')]/a\").click()\n",
    "      time.sleep(3)\n",
    "      page_content = soup(driver.page_source, 'html.parser')\n",
    "      images = page_content.findAll(\"img\",{\"class\":\"s-image\"})\n",
    "      image_num += len(images)\n",
    "      for i in range(len(images)):\n",
    "        f = open('../Shirt_Images/'+str((row-1)*(len(images))+i)+\".jpg\",'wb')\n",
    "        #if not: \n",
    "        #continue\n",
    "        f.write(requests.get(images[i]['src']).content)\n",
    "        f.close\n",
    "      if(image_num > 2000): break\n",
    "\n",
    "main()"
   ]
  },
  {
   "cell_type": "markdown",
   "metadata": {},
   "source": [
    "### Extract Images from the Amazon Category of Men's Shoes"
   ]
  },
  {
   "cell_type": "code",
   "execution_count": 7,
   "metadata": {},
   "outputs": [],
   "source": [
    "def main():\n",
    "\n",
    "  image_num = 0\n",
    "  row = 1\n",
    "  page_response = driver.get(\"https://www.amazon.com/s?i=specialty-aps&bbn=16225019011&rh=n%3A7141123011%2Cn%3A16225019011%2Cn%3A679255011&pf_rd_i=16225019011&pf_rd_m=ATVPDKIKX0DER&pf_rd_p=5cd8272b-5ce4-4c26-bfcb-d6dca0c1e427&pf_rd_p=5cd8272b-5ce4-4c26-bfcb-d6dca0c1e427&pf_rd_r=V3G56PM79KZ6R1KBGHTK&pf_rd_r=V3G56PM79KZ6R1KBGHTK&pf_rd_s=merchandised-search-left-2&pf_rd_t=101&ref=AE_Men_Shoes\")\n",
    "  time.sleep(3)\n",
    "  page_content = soup(driver.page_source, 'html.parser')\n",
    "  images = page_content.findAll(\"img\",{\"class\":\"s-image\"})\n",
    "  image_num += len(images)\n",
    "  for i in range(len(images)):\n",
    "    f = open('C:/Users/silve/Desktop/materials-master/materials-master/DSI15 Capstone Project/Shoe_Images/'+str((row-1)*(len(images))+i)+\".jpg\",'wb')\n",
    "    f.write(requests.get(images[i]['src']).content)\n",
    "    f.close\n",
    "  while(1):\n",
    "\n",
    "    row += 1\n",
    "    if(page_content.find(\"li\",{'class':'a-last'}) != None):\n",
    "      driver.find_element_by_xpath(\"//li[contains(@class, 'a-last')]/a\").click()\n",
    "      time.sleep(3)\n",
    "      page_content = soup(driver.page_source, 'html.parser')\n",
    "      images = page_content.findAll(\"img\",{\"class\":\"s-image\"})\n",
    "      image_num += len(images)\n",
    "      for i in range(len(images)):\n",
    "        f = open('C:/Users/silve/Desktop/materials-master/materials-master/DSI15 Capstone Project/Shoe_Images/'+str((row-1)*(len(images))+i)+\".jpg\",'wb')\n",
    "        #if not: \n",
    "        #continue\n",
    "        f.write(requests.get(images[i]['src']).content)\n",
    "        f.close\n",
    "      if(image_num > 2000): break\n",
    "\n",
    "main()"
   ]
  },
  {
   "cell_type": "markdown",
   "metadata": {},
   "source": [
    "### Preliminary EDA"
   ]
  },
  {
   "cell_type": "markdown",
   "metadata": {},
   "source": [
    "A preliminary visual inspections shows that there minimal image noise due from type inconsistency. There are images that are missclassified and out-of-category but these only comprise of a miniscule number of the data set. \n",
    "<ul>\n",
    "<li>The watch images are mostly consistent and of similar representation, but there appears to be many duplicate images. This will be further investigated.</li>\n",
    "<li>The shoe images are mostly clean, unique and of similar representation without much internal image noise. However, there is a mix of variations such as slippers, boots and sandals.</li>\n",
    "<li>The shirt category has a mix image representation. There are variations such as long & short sleeves, hoodies, vests, singlets and also human representation for some of the images.</li>\n",
    "</ul>"
   ]
  }
 ],
 "metadata": {
  "kernelspec": {
   "display_name": "Python 3",
   "language": "python",
   "name": "python3"
  },
  "language_info": {
   "codemirror_mode": {
    "name": "ipython",
    "version": 3
   },
   "file_extension": ".py",
   "mimetype": "text/x-python",
   "name": "python",
   "nbconvert_exporter": "python",
   "pygments_lexer": "ipython3",
   "version": "3.7.6"
  }
 },
 "nbformat": 4,
 "nbformat_minor": 4
}

{
 "cells": [
  {
   "cell_type": "markdown",
   "metadata": {},
   "source": [
    "    To access the notebook, open this file in a browser:\n",
    "        file:///C:/Users/silve/AppData/Roaming/jupyter/runtime/nbserver-25272-open.html\n",
    "    Or copy and paste one of these URLs:\n",
    "        http://localhost:8889/?token=510e3a4036a12cb5121af62abb30d82b8ef1d027c1b2b3ad\n",
    "     or http://127.0.0.1:8889/?token=510e3a4036a12cb5121af62abb30d82b8ef1d027c1b2b3ad"
   ]
  },
  {
   "cell_type": "code",
   "execution_count": null,
   "metadata": {},
   "outputs": [],
   "source": [
    "from keras.preprocessing.image import load_img\n",
    "from keras.preprocessing.image import img_to_array\n",
    "from keras.applications.vgg16 import preprocess_input\n",
    "from keras.applications.vgg16 import decode_predictions\n",
    "from keras.applications.vgg16 import VGG16\n",
    "\n",
    "def getPrediction(filename):\n",
    "\n",
    "    model = VGG16()\n",
    "    \n",
    "    # read image file into prediction function with dimension specified\n",
    "    image = load_img('uploads/'+filename, target_size=(128, 128)) \n",
    "    \n",
    "     # convert image to numpy array\n",
    "    image = img_to_array(image)\n",
    "    \n",
    "    image = image.reshape((1, image.shape[0], image.shape[1], image.shape[2]))\n",
    "    image = preprocess_input(image)\n",
    "    \n",
    "    # Run the image through the CNN model and make prediction\n",
    "    preds= model.predict(image)\n",
    "    \n",
    "    # Process the results back\n",
    "    label = decode_predictions(preds)\n",
    "    label = label[0][0]\n",
    "    \n",
    "\n",
    "    print('%s (%.2f%%)' % (label[1], label[2]*100))\n",
    "    return label[1], label[2]*100"
   ]
  }
 ],
 "metadata": {
  "kernelspec": {
   "display_name": "Python 3",
   "language": "python",
   "name": "python3"
  },
  "language_info": {
   "codemirror_mode": {
    "name": "ipython",
    "version": 3
   },
   "file_extension": ".py",
   "mimetype": "text/x-python",
   "name": "python",
   "nbconvert_exporter": "python",
   "pygments_lexer": "ipython3",
   "version": "3.7.6"
  }
 },
 "nbformat": 4,
 "nbformat_minor": 4
}
